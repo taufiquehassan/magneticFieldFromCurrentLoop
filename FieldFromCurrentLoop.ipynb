{
 "cells": [
  {
   "cell_type": "code",
   "execution_count": 6,
   "metadata": {},
   "outputs": [],
   "source": [
    "#Importing the required libraries\n",
    "from __future__ import print_function\n",
    "import h5py\n",
    "import argparse\n",
    "import numpy as np\n",
    "import pandas as pd\n",
    "import matplotlib.pyplot as plt \n",
    "import os\n",
    "import math"
   ]
  },
  {
   "cell_type": "markdown",
   "metadata": {},
   "source": [
    "## Field on Axis of Current Loop: \n",
    "$$ B_z = \\frac{\\mu_0}{4\\pi}\\frac{2\\pi R^2 I}{(z^2+R^2)^\\frac{3}{2}} $$\n",
    "\n",
    "Here,\n",
    "$$ \\mu_0 = 4\\pi×10^{−7}    \\frac{Tm}{A}$$\n",
    "\n",
    "So,\n",
    "$$ B_z = \\frac{2\\pi R^2 I}{(z^2+R^2)^\\frac{3}{2}} ×10^{−7}   T$$"
   ]
  },
  {
   "cell_type": "code",
   "execution_count": 2,
   "metadata": {},
   "outputs": [],
   "source": [
    "R = 0.0127  # 0.5 in to m\n",
    "I = 0.01    # in A\n",
    "z = 0.0762  # 3 in"
   ]
  },
  {
   "cell_type": "code",
   "execution_count": 27,
   "metadata": {},
   "outputs": [
    {
     "name": "stdout",
     "output_type": "stream",
     "text": [
      "2.198232180362257e-09\n"
     ]
    }
   ],
   "source": [
    "\n",
    "Bz = ((2*math.pi*(pow(R,2)*I))/pow((pow(z,2) + pow(R,2)), (3/2)))*pow(10,-7)\n",
    "\n",
    "print(Bz)"
   ]
  },
  {
   "cell_type": "code",
   "execution_count": 50,
   "metadata": {},
   "outputs": [
    {
     "name": "stdout",
     "output_type": "stream",
     "text": [
      "0.0127 0.01 0.07619999999999999\n",
      "0.07619999999999999 7.381574497355086e-09\n",
      "0.07619999999999999 9.893820822709306e-10\n",
      "0.07619999999999999 1.581069544404309e-11\n",
      "Calculation Done, DF created\n"
     ]
    }
   ],
   "source": [
    "loop_radious_in = 0.5  # 0.5 in to m\n",
    "loop_current_mA = 10      #  mA\n",
    "vertical_z_in = 3         # in\n",
    "\n",
    "R = loop_radious_in*0.0254\n",
    "I = loop_current_mA/1000\n",
    "z= vertical_z_in*0.0254\n",
    "\n",
    "print(R,I,z)\n",
    "\n",
    "\n",
    "def my_range(start, end, step):\n",
    "    while start <= end:\n",
    "        yield start\n",
    "        start += step\n",
    "\n",
    "def calculate_field(R, I, z):\n",
    "    return ((2*math.pi*(pow(R,2)*I))/pow((pow(z,2) + pow(R,2)), (3/2)))*pow(10,-7)\n",
    "\n",
    "print(z, calculate_field(R, I, 0.05))\n",
    "print(z, calculate_field(R, I, 0.1))\n",
    "print(z, calculate_field(R, I, 0.4))\n",
    "        \n",
    "start = 1/100\n",
    "stop  = .12\n",
    "step  = 1/100\n",
    "        \n",
    "df = pd.DataFrame({'loopCurrent': [], 'loopRadious': [], 'vertical_z': [], 'field': []})\n",
    "\n",
    "for k in my_range(start, stop, step):\n",
    "    i = I\n",
    "    j = R\n",
    "    #k = z\n",
    "    l = calculate_field(j, i, k)\n",
    "    df = df.append({'loopCurrent': i, 'loopRadious': j, 'vertical_z': k , 'field': l}, ignore_index=True)\n",
    "    \n",
    "print(\"Calculation Done, DF created\")\n",
    "#df.head(11)"
   ]
  },
  {
   "cell_type": "code",
   "execution_count": 49,
   "metadata": {},
   "outputs": [
    {
     "data": {
      "image/png": "[encoded data removed]",
      "text/plain": [
       "<Figure size 432x288 with 1 Axes>"
      ]
     },
     "metadata": {
      "needs_background": "light"
     },
     "output_type": "display_data"
    }
   ],
   "source": [
    "#Plotting the data\n",
    "ax = plt.gca()\n",
    "df.plot(kind='line',x='vertical_z',y='field',color='red', ax=ax)\n",
    "ax.set_xlabel(\"Vertical Z (m)\")\n",
    "ax.set_ylabel(\"Field (T)\")\n",
    "plt.show()"
   ]
  },
  {
   "cell_type": "code",
   "execution_count": null,
   "metadata": {},
   "outputs": [],
   "source": []
  }
 ],
 "metadata": {
  "kernelspec": {
   "display_name": "Python 3",
   "language": "python",
   "name": "python3"
  },
  "language_info": {
   "codemirror_mode": {
    "name": "ipython",
    "version": 3
   },
   "file_extension": ".py",
   "mimetype": "text/x-python",
   "name": "python",
   "nbconvert_exporter": "python",
   "pygments_lexer": "ipython3",
   "version": "3.7.4"
  }
 },
 "nbformat": 4,
 "nbformat_minor": 2
}
